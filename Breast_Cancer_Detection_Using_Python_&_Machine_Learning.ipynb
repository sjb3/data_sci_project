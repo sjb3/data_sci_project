{
  "nbformat": 4,
  "nbformat_minor": 0,
  "metadata": {
    "colab": {
      "name": "Breast Cancer Detection Using Python & Machine Learning.ipynb",
      "provenance": [],
      "collapsed_sections": []
    },
    "kernelspec": {
      "name": "python3",
      "display_name": "Python 3"
    }
  },
  "cells": [
    {
      "cell_type": "markdown",
      "metadata": {
        "id": "I3FJrB7_b6nB",
        "colab_type": "text"
      },
      "source": [
        "### Breast Cancer Detection Using Python & Machine Learning"
      ]
    },
    {
      "cell_type": "code",
      "metadata": {
        "id": "HyvOBxwnR8Kr",
        "colab_type": "code",
        "colab": {}
      },
      "source": [
        "from datetime import datetime\n",
        "import pandas as pd\n",
        "import numpy as np\n",
        "import seaborn as sns\n",
        "import matplotlib.pyplot as plt"
      ],
      "execution_count": 31,
      "outputs": []
    },
    {
      "cell_type": "code",
      "metadata": {
        "id": "bNoveM7iSDSO",
        "colab_type": "code",
        "colab": {
          "resources": {
            "http://localhost:8080/nbextensions/google.colab/files.js": {
              "data": "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",
              "ok": true,
              "headers": [
                [
                  "content-type",
                  "application/javascript"
                ]
              ],
              "status": 200,
              "status_text": ""
            }
          },
          "base_uri": "https://localhost:8080/",
          "height": 72
        },
        "outputId": "febfff2e-99d7-4aeb-a3f8-9b5752bdd469"
      },
      "source": [
        "from google.colab import files\n",
        "uploaded = files.upload()"
      ],
      "execution_count": 2,
      "outputs": [
        {
          "output_type": "display_data",
          "data": {
            "text/html": [
              "\n",
              "     <input type=\"file\" id=\"files-898e0529-1462-442b-b550-ecd1d39fa4ca\" name=\"files[]\" multiple disabled\n",
              "        style=\"border:none\" />\n",
              "     <output id=\"result-898e0529-1462-442b-b550-ecd1d39fa4ca\">\n",
              "      Upload widget is only available when the cell has been executed in the\n",
              "      current browser session. Please rerun this cell to enable.\n",
              "      </output>\n",
              "      <script src=\"/nbextensions/google.colab/files.js\"></script> "
            ],
            "text/plain": [
              "<IPython.core.display.HTML object>"
            ]
          },
          "metadata": {
            "tags": []
          }
        },
        {
          "output_type": "stream",
          "text": [
            "Saving breast_cancer_train.csv to breast_cancer_train.csv\n"
          ],
          "name": "stdout"
        }
      ]
    },
    {
      "cell_type": "code",
      "metadata": {
        "id": "igaU4jMTZbDt",
        "colab_type": "code",
        "colab": {
          "base_uri": "https://localhost:8080/",
          "height": 241
        },
        "outputId": "cd2c62bd-3cf1-4ba0-b7ca-18e94d2fa7a2"
      },
      "source": [
        "df = pd.read_csv('breast_cancer_train.csv')\n",
        "df.head()"
      ],
      "execution_count": 51,
      "outputs": [
        {
          "output_type": "execute_result",
          "data": {
            "text/html": [
              "<div>\n",
              "<style scoped>\n",
              "    .dataframe tbody tr th:only-of-type {\n",
              "        vertical-align: middle;\n",
              "    }\n",
              "\n",
              "    .dataframe tbody tr th {\n",
              "        vertical-align: top;\n",
              "    }\n",
              "\n",
              "    .dataframe thead th {\n",
              "        text-align: right;\n",
              "    }\n",
              "</style>\n",
              "<table border=\"1\" class=\"dataframe\">\n",
              "  <thead>\n",
              "    <tr style=\"text-align: right;\">\n",
              "      <th></th>\n",
              "      <th>id</th>\n",
              "      <th>diagnosis</th>\n",
              "      <th>radius_mean</th>\n",
              "      <th>texture_mean</th>\n",
              "      <th>perimeter_mean</th>\n",
              "      <th>area_mean</th>\n",
              "      <th>smoothness_mean</th>\n",
              "      <th>compactness_mean</th>\n",
              "      <th>concavity_mean</th>\n",
              "      <th>concave points_mean</th>\n",
              "      <th>symmetry_mean</th>\n",
              "      <th>fractal_dimension_mean</th>\n",
              "      <th>radius_se</th>\n",
              "      <th>texture_se</th>\n",
              "      <th>perimeter_se</th>\n",
              "      <th>area_se</th>\n",
              "      <th>smoothness_se</th>\n",
              "      <th>compactness_se</th>\n",
              "      <th>concavity_se</th>\n",
              "      <th>concave points_se</th>\n",
              "      <th>symmetry_se</th>\n",
              "      <th>fractal_dimension_se</th>\n",
              "      <th>radius_worst</th>\n",
              "      <th>texture_worst</th>\n",
              "      <th>perimeter_worst</th>\n",
              "      <th>area_worst</th>\n",
              "      <th>smoothness_worst</th>\n",
              "      <th>compactness_worst</th>\n",
              "      <th>concavity_worst</th>\n",
              "      <th>concave points_worst</th>\n",
              "      <th>symmetry_worst</th>\n",
              "      <th>fractal_dimension_worst</th>\n",
              "    </tr>\n",
              "  </thead>\n",
              "  <tbody>\n",
              "    <tr>\n",
              "      <th>0</th>\n",
              "      <td>863270</td>\n",
              "      <td>B</td>\n",
              "      <td>12.360</td>\n",
              "      <td>18.54</td>\n",
              "      <td>79.01</td>\n",
              "      <td>466.7</td>\n",
              "      <td>0.08477</td>\n",
              "      <td>0.06815</td>\n",
              "      <td>0.02643</td>\n",
              "      <td>0.01921</td>\n",
              "      <td>0.1602</td>\n",
              "      <td>0.06066</td>\n",
              "      <td>0.1199</td>\n",
              "      <td>0.8944</td>\n",
              "      <td>0.8484</td>\n",
              "      <td>9.227</td>\n",
              "      <td>0.003457</td>\n",
              "      <td>0.01047</td>\n",
              "      <td>0.011670</td>\n",
              "      <td>0.005558</td>\n",
              "      <td>0.01251</td>\n",
              "      <td>0.001356</td>\n",
              "      <td>13.290</td>\n",
              "      <td>27.49</td>\n",
              "      <td>85.56</td>\n",
              "      <td>544.1</td>\n",
              "      <td>0.1184</td>\n",
              "      <td>0.19630</td>\n",
              "      <td>0.19370</td>\n",
              "      <td>0.08442</td>\n",
              "      <td>0.2983</td>\n",
              "      <td>0.07185</td>\n",
              "    </tr>\n",
              "    <tr>\n",
              "      <th>1</th>\n",
              "      <td>87556202</td>\n",
              "      <td>M</td>\n",
              "      <td>14.860</td>\n",
              "      <td>23.21</td>\n",
              "      <td>100.40</td>\n",
              "      <td>671.4</td>\n",
              "      <td>0.10440</td>\n",
              "      <td>0.19800</td>\n",
              "      <td>0.16970</td>\n",
              "      <td>0.08878</td>\n",
              "      <td>0.1737</td>\n",
              "      <td>0.06672</td>\n",
              "      <td>0.2796</td>\n",
              "      <td>0.9622</td>\n",
              "      <td>3.5910</td>\n",
              "      <td>25.200</td>\n",
              "      <td>0.008081</td>\n",
              "      <td>0.05122</td>\n",
              "      <td>0.055510</td>\n",
              "      <td>0.018830</td>\n",
              "      <td>0.02545</td>\n",
              "      <td>0.004312</td>\n",
              "      <td>16.080</td>\n",
              "      <td>27.78</td>\n",
              "      <td>118.60</td>\n",
              "      <td>784.7</td>\n",
              "      <td>0.1316</td>\n",
              "      <td>0.46480</td>\n",
              "      <td>0.45890</td>\n",
              "      <td>0.17270</td>\n",
              "      <td>0.3000</td>\n",
              "      <td>0.08701</td>\n",
              "    </tr>\n",
              "    <tr>\n",
              "      <th>2</th>\n",
              "      <td>858970</td>\n",
              "      <td>B</td>\n",
              "      <td>10.170</td>\n",
              "      <td>14.88</td>\n",
              "      <td>64.55</td>\n",
              "      <td>311.9</td>\n",
              "      <td>0.11340</td>\n",
              "      <td>0.08061</td>\n",
              "      <td>0.01084</td>\n",
              "      <td>0.01290</td>\n",
              "      <td>0.2743</td>\n",
              "      <td>0.06960</td>\n",
              "      <td>0.5158</td>\n",
              "      <td>1.4410</td>\n",
              "      <td>3.3120</td>\n",
              "      <td>34.620</td>\n",
              "      <td>0.007514</td>\n",
              "      <td>0.01099</td>\n",
              "      <td>0.007665</td>\n",
              "      <td>0.008193</td>\n",
              "      <td>0.04183</td>\n",
              "      <td>0.005953</td>\n",
              "      <td>11.020</td>\n",
              "      <td>17.45</td>\n",
              "      <td>69.86</td>\n",
              "      <td>368.6</td>\n",
              "      <td>0.1275</td>\n",
              "      <td>0.09866</td>\n",
              "      <td>0.02168</td>\n",
              "      <td>0.02579</td>\n",
              "      <td>0.3557</td>\n",
              "      <td>0.08020</td>\n",
              "    </tr>\n",
              "    <tr>\n",
              "      <th>3</th>\n",
              "      <td>909220</td>\n",
              "      <td>B</td>\n",
              "      <td>14.040</td>\n",
              "      <td>15.98</td>\n",
              "      <td>89.78</td>\n",
              "      <td>611.2</td>\n",
              "      <td>0.08458</td>\n",
              "      <td>0.05895</td>\n",
              "      <td>0.03534</td>\n",
              "      <td>0.02944</td>\n",
              "      <td>0.1714</td>\n",
              "      <td>0.05898</td>\n",
              "      <td>0.3892</td>\n",
              "      <td>1.0460</td>\n",
              "      <td>2.6440</td>\n",
              "      <td>32.740</td>\n",
              "      <td>0.007976</td>\n",
              "      <td>0.01295</td>\n",
              "      <td>0.016080</td>\n",
              "      <td>0.009046</td>\n",
              "      <td>0.02005</td>\n",
              "      <td>0.002830</td>\n",
              "      <td>15.660</td>\n",
              "      <td>21.58</td>\n",
              "      <td>101.20</td>\n",
              "      <td>750.0</td>\n",
              "      <td>0.1195</td>\n",
              "      <td>0.12520</td>\n",
              "      <td>0.11170</td>\n",
              "      <td>0.07453</td>\n",
              "      <td>0.2725</td>\n",
              "      <td>0.07234</td>\n",
              "    </tr>\n",
              "    <tr>\n",
              "      <th>4</th>\n",
              "      <td>9010333</td>\n",
              "      <td>B</td>\n",
              "      <td>8.878</td>\n",
              "      <td>15.49</td>\n",
              "      <td>56.74</td>\n",
              "      <td>241.0</td>\n",
              "      <td>0.08293</td>\n",
              "      <td>0.07698</td>\n",
              "      <td>0.04721</td>\n",
              "      <td>0.02381</td>\n",
              "      <td>0.1930</td>\n",
              "      <td>0.06621</td>\n",
              "      <td>0.5381</td>\n",
              "      <td>1.2000</td>\n",
              "      <td>4.2770</td>\n",
              "      <td>30.180</td>\n",
              "      <td>0.010930</td>\n",
              "      <td>0.02899</td>\n",
              "      <td>0.032140</td>\n",
              "      <td>0.015060</td>\n",
              "      <td>0.02837</td>\n",
              "      <td>0.004174</td>\n",
              "      <td>9.981</td>\n",
              "      <td>17.70</td>\n",
              "      <td>65.27</td>\n",
              "      <td>302.0</td>\n",
              "      <td>0.1015</td>\n",
              "      <td>0.12480</td>\n",
              "      <td>0.09441</td>\n",
              "      <td>0.04762</td>\n",
              "      <td>0.2434</td>\n",
              "      <td>0.07431</td>\n",
              "    </tr>\n",
              "  </tbody>\n",
              "</table>\n",
              "</div>"
            ],
            "text/plain": [
              "         id diagnosis  ...  symmetry_worst  fractal_dimension_worst\n",
              "0    863270         B  ...          0.2983                  0.07185\n",
              "1  87556202         M  ...          0.3000                  0.08701\n",
              "2    858970         B  ...          0.3557                  0.08020\n",
              "3    909220         B  ...          0.2725                  0.07234\n",
              "4   9010333         B  ...          0.2434                  0.07431\n",
              "\n",
              "[5 rows x 32 columns]"
            ]
          },
          "metadata": {
            "tags": []
          },
          "execution_count": 51
        }
      ]
    },
    {
      "cell_type": "code",
      "metadata": {
        "id": "M2Z-vctkZdVU",
        "colab_type": "code",
        "colab": {
          "base_uri": "https://localhost:8080/",
          "height": 34
        },
        "outputId": "8ed76856-0783-46ac-f022-84eb5925ba43"
      },
      "source": [
        "df.shape"
      ],
      "execution_count": 52,
      "outputs": [
        {
          "output_type": "execute_result",
          "data": {
            "text/plain": [
              "(284, 32)"
            ]
          },
          "metadata": {
            "tags": []
          },
          "execution_count": 52
        }
      ]
    },
    {
      "cell_type": "code",
      "metadata": {
        "id": "Z8uYTnaEwOg9",
        "colab_type": "code",
        "colab": {
          "base_uri": "https://localhost:8080/",
          "height": 34
        },
        "outputId": "f729cf8d-c29c-4200-96dc-eb9fe5b6bf48"
      },
      "source": [
        "# Drop the columns with all missing values\n",
        "\n",
        "df = df.dropna(axis=1)\n",
        "df.shape # Original df is clean "
      ],
      "execution_count": 53,
      "outputs": [
        {
          "output_type": "execute_result",
          "data": {
            "text/plain": [
              "(284, 32)"
            ]
          },
          "metadata": {
            "tags": []
          },
          "execution_count": 53
        }
      ]
    },
    {
      "cell_type": "code",
      "metadata": {
        "id": "xqviDdKfw5yj",
        "colab_type": "code",
        "colab": {
          "base_uri": "https://localhost:8080/",
          "height": 68
        },
        "outputId": "2bcf5c7d-c83d-411a-cf62-4aa6e5294028"
      },
      "source": [
        "# Get a count of malignant / bening type\n",
        "\n",
        "df.diagnosis.value_counts()"
      ],
      "execution_count": 54,
      "outputs": [
        {
          "output_type": "execute_result",
          "data": {
            "text/plain": [
              "B    172\n",
              "M    112\n",
              "Name: diagnosis, dtype: int64"
            ]
          },
          "metadata": {
            "tags": []
          },
          "execution_count": 54
        }
      ]
    },
    {
      "cell_type": "code",
      "metadata": {
        "id": "8Lhkz9E5xeuy",
        "colab_type": "code",
        "colab": {
          "base_uri": "https://localhost:8080/",
          "height": 296
        },
        "outputId": "09b97eeb-eff0-4cd4-c50b-0dd26ee8bffd"
      },
      "source": [
        "# Visualize the counts\n",
        "\n",
        "sns.countplot(df['diagnosis'], label='Count')"
      ],
      "execution_count": 55,
      "outputs": [
        {
          "output_type": "execute_result",
          "data": {
            "text/plain": [
              "<matplotlib.axes._subplots.AxesSubplot at 0x7f1a8389e240>"
            ]
          },
          "metadata": {
            "tags": []
          },
          "execution_count": 55
        },
        {
          "output_type": "display_data",
          "data": {
            "image/png": "[encoded data removed]",
            "text/plain": [
              "<Figure size 432x288 with 1 Axes>"
            ]
          },
          "metadata": {
            "tags": [],
            "needs_background": "light"
          }
        }
      ]
    },
    {
      "cell_type": "code",
      "metadata": {
        "id": "wBe0BMKQyh-6",
        "colab_type": "code",
        "colab": {
          "base_uri": "https://localhost:8080/",
          "height": 578
        },
        "outputId": "458775e0-1671-4e1e-a038-8ad55316843f"
      },
      "source": [
        "# Check which columns to be encoded\n",
        "\n",
        "df.dtypes"
      ],
      "execution_count": 56,
      "outputs": [
        {
          "output_type": "execute_result",
          "data": {
            "text/plain": [
              "id                           int64\n",
              "diagnosis                   object\n",
              "radius_mean                float64\n",
              "texture_mean               float64\n",
              "perimeter_mean             float64\n",
              "area_mean                  float64\n",
              "smoothness_mean            float64\n",
              "compactness_mean           float64\n",
              "concavity_mean             float64\n",
              "concave points_mean        float64\n",
              "symmetry_mean              float64\n",
              "fractal_dimension_mean     float64\n",
              "radius_se                  float64\n",
              "texture_se                 float64\n",
              "perimeter_se               float64\n",
              "area_se                    float64\n",
              "smoothness_se              float64\n",
              "compactness_se             float64\n",
              "concavity_se               float64\n",
              "concave points_se          float64\n",
              "symmetry_se                float64\n",
              "fractal_dimension_se       float64\n",
              "radius_worst               float64\n",
              "texture_worst              float64\n",
              "perimeter_worst            float64\n",
              "area_worst                 float64\n",
              "smoothness_worst           float64\n",
              "compactness_worst          float64\n",
              "concavity_worst            float64\n",
              "concave points_worst       float64\n",
              "symmetry_worst             float64\n",
              "fractal_dimension_worst    float64\n",
              "dtype: object"
            ]
          },
          "metadata": {
            "tags": []
          },
          "execution_count": 56
        }
      ]
    },
    {
      "cell_type": "code",
      "metadata": {
        "id": "TbZOTX58zNQS",
        "colab_type": "code",
        "colab": {
          "base_uri": "https://localhost:8080/",
          "height": 289
        },
        "outputId": "b8d36891-84d7-4854-a062-f76b9d4caf82"
      },
      "source": [
        "# Encode the categorical data values\n",
        "print(df.iloc[:, 1].values)"
      ],
      "execution_count": 57,
      "outputs": [
        {
          "output_type": "stream",
          "text": [
            "['B' 'M' 'B' 'B' 'B' 'M' 'B' 'M' 'M' 'B' 'M' 'M' 'B' 'B' 'B' 'B' 'B' 'M'\n",
            " 'B' 'B' 'B' 'B' 'B' 'M' 'M' 'B' 'B' 'B' 'B' 'M' 'B' 'B' 'B' 'M' 'M' 'M'\n",
            " 'B' 'M' 'B' 'M' 'B' 'M' 'B' 'B' 'B' 'B' 'M' 'M' 'B' 'B' 'B' 'M' 'B' 'B'\n",
            " 'B' 'M' 'B' 'B' 'M' 'B' 'B' 'B' 'B' 'M' 'B' 'B' 'B' 'M' 'M' 'M' 'M' 'M'\n",
            " 'B' 'M' 'M' 'B' 'M' 'B' 'B' 'B' 'B' 'B' 'M' 'B' 'B' 'M' 'B' 'B' 'M' 'M'\n",
            " 'B' 'M' 'B' 'B' 'B' 'M' 'B' 'B' 'B' 'M' 'B' 'B' 'M' 'B' 'B' 'B' 'B' 'B'\n",
            " 'M' 'B' 'B' 'B' 'M' 'B' 'B' 'B' 'B' 'M' 'B' 'B' 'M' 'M' 'M' 'M' 'M' 'B'\n",
            " 'M' 'B' 'M' 'M' 'M' 'M' 'B' 'M' 'B' 'M' 'M' 'B' 'M' 'M' 'B' 'B' 'M' 'M'\n",
            " 'B' 'M' 'M' 'B' 'M' 'B' 'B' 'B' 'B' 'M' 'B' 'M' 'M' 'M' 'B' 'B' 'B' 'M'\n",
            " 'M' 'M' 'B' 'M' 'M' 'B' 'M' 'B' 'B' 'M' 'B' 'B' 'B' 'B' 'M' 'M' 'B' 'B'\n",
            " 'B' 'B' 'B' 'M' 'B' 'B' 'B' 'B' 'B' 'B' 'M' 'M' 'B' 'B' 'B' 'M' 'M' 'M'\n",
            " 'B' 'M' 'M' 'B' 'M' 'B' 'M' 'B' 'B' 'M' 'B' 'B' 'M' 'B' 'B' 'B' 'B' 'M'\n",
            " 'B' 'M' 'B' 'M' 'M' 'B' 'B' 'B' 'B' 'B' 'B' 'M' 'M' 'M' 'B' 'B' 'B' 'M'\n",
            " 'B' 'M' 'M' 'B' 'B' 'M' 'M' 'B' 'B' 'B' 'B' 'M' 'M' 'B' 'B' 'B' 'B' 'B'\n",
            " 'M' 'B' 'B' 'B' 'M' 'B' 'B' 'M' 'B' 'B' 'M' 'B' 'B' 'M' 'B' 'B' 'B' 'B'\n",
            " 'B' 'M' 'M' 'B' 'M' 'B' 'B' 'M' 'B' 'M' 'B' 'B' 'M' 'M']\n"
          ],
          "name": "stdout"
        }
      ]
    },
    {
      "cell_type": "code",
      "metadata": {
        "id": "0j1Hxgmx09bV",
        "colab_type": "code",
        "colab": {
          "base_uri": "https://localhost:8080/",
          "height": 238
        },
        "outputId": "65834aaf-5919-4f5c-e0da-f68218873d4c"
      },
      "source": [
        "from sklearn.preprocessing import LabelEncoder\n",
        "labelencoder_Y = LabelEncoder()\n",
        "labelencoder_Y.fit_transform(df.iloc[:, 1].values) # diagnosis column benign:0, malignant:1}"
      ],
      "execution_count": 58,
      "outputs": [
        {
          "output_type": "execute_result",
          "data": {
            "text/plain": [
              "array([0, 1, 0, 0, 0, 1, 0, 1, 1, 0, 1, 1, 0, 0, 0, 0, 0, 1, 0, 0, 0, 0,\n",
              "       0, 1, 1, 0, 0, 0, 0, 1, 0, 0, 0, 1, 1, 1, 0, 1, 0, 1, 0, 1, 0, 0,\n",
              "       0, 0, 1, 1, 0, 0, 0, 1, 0, 0, 0, 1, 0, 0, 1, 0, 0, 0, 0, 1, 0, 0,\n",
              "       0, 1, 1, 1, 1, 1, 0, 1, 1, 0, 1, 0, 0, 0, 0, 0, 1, 0, 0, 1, 0, 0,\n",
              "       1, 1, 0, 1, 0, 0, 0, 1, 0, 0, 0, 1, 0, 0, 1, 0, 0, 0, 0, 0, 1, 0,\n",
              "       0, 0, 1, 0, 0, 0, 0, 1, 0, 0, 1, 1, 1, 1, 1, 0, 1, 0, 1, 1, 1, 1,\n",
              "       0, 1, 0, 1, 1, 0, 1, 1, 0, 0, 1, 1, 0, 1, 1, 0, 1, 0, 0, 0, 0, 1,\n",
              "       0, 1, 1, 1, 0, 0, 0, 1, 1, 1, 0, 1, 1, 0, 1, 0, 0, 1, 0, 0, 0, 0,\n",
              "       1, 1, 0, 0, 0, 0, 0, 1, 0, 0, 0, 0, 0, 0, 1, 1, 0, 0, 0, 1, 1, 1,\n",
              "       0, 1, 1, 0, 1, 0, 1, 0, 0, 1, 0, 0, 1, 0, 0, 0, 0, 1, 0, 1, 0, 1,\n",
              "       1, 0, 0, 0, 0, 0, 0, 1, 1, 1, 0, 0, 0, 1, 0, 1, 1, 0, 0, 1, 1, 0,\n",
              "       0, 0, 0, 1, 1, 0, 0, 0, 0, 0, 1, 0, 0, 0, 1, 0, 0, 1, 0, 0, 1, 0,\n",
              "       0, 1, 0, 0, 0, 0, 0, 1, 1, 0, 1, 0, 0, 1, 0, 1, 0, 0, 1, 1])"
            ]
          },
          "metadata": {
            "tags": []
          },
          "execution_count": 58
        }
      ]
    },
    {
      "cell_type": "code",
      "metadata": {
        "id": "PI0oB-OW1IOT",
        "colab_type": "code",
        "colab": {
          "base_uri": "https://localhost:8080/",
          "height": 782
        },
        "outputId": "96b1af5a-0ffe-436e-d8b8-8b632c4c85da"
      },
      "source": [
        "df.iloc[:, 1] = labelencoder_Y.fit_transform(df.iloc[:, 1].values) \n",
        "print(df.iloc[:, 1])\n",
        "print(df.dtypes)"
      ],
      "execution_count": 62,
      "outputs": [
        {
          "output_type": "stream",
          "text": [
            "0      0\n",
            "1      1\n",
            "2      0\n",
            "3      0\n",
            "4      0\n",
            "      ..\n",
            "279    1\n",
            "280    0\n",
            "281    0\n",
            "282    1\n",
            "283    1\n",
            "Name: diagnosis, Length: 284, dtype: int64\n",
            "id                           int64\n",
            "diagnosis                    int64\n",
            "radius_mean                float64\n",
            "texture_mean               float64\n",
            "perimeter_mean             float64\n",
            "area_mean                  float64\n",
            "smoothness_mean            float64\n",
            "compactness_mean           float64\n",
            "concavity_mean             float64\n",
            "concave points_mean        float64\n",
            "symmetry_mean              float64\n",
            "fractal_dimension_mean     float64\n",
            "radius_se                  float64\n",
            "texture_se                 float64\n",
            "perimeter_se               float64\n",
            "area_se                    float64\n",
            "smoothness_se              float64\n",
            "compactness_se             float64\n",
            "concavity_se               float64\n",
            "concave points_se          float64\n",
            "symmetry_se                float64\n",
            "fractal_dimension_se       float64\n",
            "radius_worst               float64\n",
            "texture_worst              float64\n",
            "perimeter_worst            float64\n",
            "area_worst                 float64\n",
            "smoothness_worst           float64\n",
            "compactness_worst          float64\n",
            "concavity_worst            float64\n",
            "concave points_worst       float64\n",
            "symmetry_worst             float64\n",
            "fractal_dimension_worst    float64\n",
            "dtype: object\n"
          ],
          "name": "stdout"
        }
      ]
    },
    {
      "cell_type": "code",
      "metadata": {
        "id": "Ixs5vgR12d7X",
        "colab_type": "code",
        "colab": {
          "base_uri": "https://localhost:8080/",
          "height": 241
        },
        "outputId": "84ccf2bb-f06e-4ece-c1cd-7de7866ad9ef"
      },
      "source": [
        "df.head()"
      ],
      "execution_count": 63,
      "outputs": [
        {
          "output_type": "execute_result",
          "data": {
            "text/html": [
              "<div>\n",
              "<style scoped>\n",
              "    .dataframe tbody tr th:only-of-type {\n",
              "        vertical-align: middle;\n",
              "    }\n",
              "\n",
              "    .dataframe tbody tr th {\n",
              "        vertical-align: top;\n",
              "    }\n",
              "\n",
              "    .dataframe thead th {\n",
              "        text-align: right;\n",
              "    }\n",
              "</style>\n",
              "<table border=\"1\" class=\"dataframe\">\n",
              "  <thead>\n",
              "    <tr style=\"text-align: right;\">\n",
              "      <th></th>\n",
              "      <th>id</th>\n",
              "      <th>diagnosis</th>\n",
              "      <th>radius_mean</th>\n",
              "      <th>texture_mean</th>\n",
              "      <th>perimeter_mean</th>\n",
              "      <th>area_mean</th>\n",
              "      <th>smoothness_mean</th>\n",
              "      <th>compactness_mean</th>\n",
              "      <th>concavity_mean</th>\n",
              "      <th>concave points_mean</th>\n",
              "      <th>symmetry_mean</th>\n",
              "      <th>fractal_dimension_mean</th>\n",
              "      <th>radius_se</th>\n",
              "      <th>texture_se</th>\n",
              "      <th>perimeter_se</th>\n",
              "      <th>area_se</th>\n",
              "      <th>smoothness_se</th>\n",
              "      <th>compactness_se</th>\n",
              "      <th>concavity_se</th>\n",
              "      <th>concave points_se</th>\n",
              "      <th>symmetry_se</th>\n",
              "      <th>fractal_dimension_se</th>\n",
              "      <th>radius_worst</th>\n",
              "      <th>texture_worst</th>\n",
              "      <th>perimeter_worst</th>\n",
              "      <th>area_worst</th>\n",
              "      <th>smoothness_worst</th>\n",
              "      <th>compactness_worst</th>\n",
              "      <th>concavity_worst</th>\n",
              "      <th>concave points_worst</th>\n",
              "      <th>symmetry_worst</th>\n",
              "      <th>fractal_dimension_worst</th>\n",
              "    </tr>\n",
              "  </thead>\n",
              "  <tbody>\n",
              "    <tr>\n",
              "      <th>0</th>\n",
              "      <td>863270</td>\n",
              "      <td>0</td>\n",
              "      <td>12.360</td>\n",
              "      <td>18.54</td>\n",
              "      <td>79.01</td>\n",
              "      <td>466.7</td>\n",
              "      <td>0.08477</td>\n",
              "      <td>0.06815</td>\n",
              "      <td>0.02643</td>\n",
              "      <td>0.01921</td>\n",
              "      <td>0.1602</td>\n",
              "      <td>0.06066</td>\n",
              "      <td>0.1199</td>\n",
              "      <td>0.8944</td>\n",
              "      <td>0.8484</td>\n",
              "      <td>9.227</td>\n",
              "      <td>0.003457</td>\n",
              "      <td>0.01047</td>\n",
              "      <td>0.011670</td>\n",
              "      <td>0.005558</td>\n",
              "      <td>0.01251</td>\n",
              "      <td>0.001356</td>\n",
              "      <td>13.290</td>\n",
              "      <td>27.49</td>\n",
              "      <td>85.56</td>\n",
              "      <td>544.1</td>\n",
              "      <td>0.1184</td>\n",
              "      <td>0.19630</td>\n",
              "      <td>0.19370</td>\n",
              "      <td>0.08442</td>\n",
              "      <td>0.2983</td>\n",
              "      <td>0.07185</td>\n",
              "    </tr>\n",
              "    <tr>\n",
              "      <th>1</th>\n",
              "      <td>87556202</td>\n",
              "      <td>1</td>\n",
              "      <td>14.860</td>\n",
              "      <td>23.21</td>\n",
              "      <td>100.40</td>\n",
              "      <td>671.4</td>\n",
              "      <td>0.10440</td>\n",
              "      <td>0.19800</td>\n",
              "      <td>0.16970</td>\n",
              "      <td>0.08878</td>\n",
              "      <td>0.1737</td>\n",
              "      <td>0.06672</td>\n",
              "      <td>0.2796</td>\n",
              "      <td>0.9622</td>\n",
              "      <td>3.5910</td>\n",
              "      <td>25.200</td>\n",
              "      <td>0.008081</td>\n",
              "      <td>0.05122</td>\n",
              "      <td>0.055510</td>\n",
              "      <td>0.018830</td>\n",
              "      <td>0.02545</td>\n",
              "      <td>0.004312</td>\n",
              "      <td>16.080</td>\n",
              "      <td>27.78</td>\n",
              "      <td>118.60</td>\n",
              "      <td>784.7</td>\n",
              "      <td>0.1316</td>\n",
              "      <td>0.46480</td>\n",
              "      <td>0.45890</td>\n",
              "      <td>0.17270</td>\n",
              "      <td>0.3000</td>\n",
              "      <td>0.08701</td>\n",
              "    </tr>\n",
              "    <tr>\n",
              "      <th>2</th>\n",
              "      <td>858970</td>\n",
              "      <td>0</td>\n",
              "      <td>10.170</td>\n",
              "      <td>14.88</td>\n",
              "      <td>64.55</td>\n",
              "      <td>311.9</td>\n",
              "      <td>0.11340</td>\n",
              "      <td>0.08061</td>\n",
              "      <td>0.01084</td>\n",
              "      <td>0.01290</td>\n",
              "      <td>0.2743</td>\n",
              "      <td>0.06960</td>\n",
              "      <td>0.5158</td>\n",
              "      <td>1.4410</td>\n",
              "      <td>3.3120</td>\n",
              "      <td>34.620</td>\n",
              "      <td>0.007514</td>\n",
              "      <td>0.01099</td>\n",
              "      <td>0.007665</td>\n",
              "      <td>0.008193</td>\n",
              "      <td>0.04183</td>\n",
              "      <td>0.005953</td>\n",
              "      <td>11.020</td>\n",
              "      <td>17.45</td>\n",
              "      <td>69.86</td>\n",
              "      <td>368.6</td>\n",
              "      <td>0.1275</td>\n",
              "      <td>0.09866</td>\n",
              "      <td>0.02168</td>\n",
              "      <td>0.02579</td>\n",
              "      <td>0.3557</td>\n",
              "      <td>0.08020</td>\n",
              "    </tr>\n",
              "    <tr>\n",
              "      <th>3</th>\n",
              "      <td>909220</td>\n",
              "      <td>0</td>\n",
              "      <td>14.040</td>\n",
              "      <td>15.98</td>\n",
              "      <td>89.78</td>\n",
              "      <td>611.2</td>\n",
              "      <td>0.08458</td>\n",
              "      <td>0.05895</td>\n",
              "      <td>0.03534</td>\n",
              "      <td>0.02944</td>\n",
              "      <td>0.1714</td>\n",
              "      <td>0.05898</td>\n",
              "      <td>0.3892</td>\n",
              "      <td>1.0460</td>\n",
              "      <td>2.6440</td>\n",
              "      <td>32.740</td>\n",
              "      <td>0.007976</td>\n",
              "      <td>0.01295</td>\n",
              "      <td>0.016080</td>\n",
              "      <td>0.009046</td>\n",
              "      <td>0.02005</td>\n",
              "      <td>0.002830</td>\n",
              "      <td>15.660</td>\n",
              "      <td>21.58</td>\n",
              "      <td>101.20</td>\n",
              "      <td>750.0</td>\n",
              "      <td>0.1195</td>\n",
              "      <td>0.12520</td>\n",
              "      <td>0.11170</td>\n",
              "      <td>0.07453</td>\n",
              "      <td>0.2725</td>\n",
              "      <td>0.07234</td>\n",
              "    </tr>\n",
              "    <tr>\n",
              "      <th>4</th>\n",
              "      <td>9010333</td>\n",
              "      <td>0</td>\n",
              "      <td>8.878</td>\n",
              "      <td>15.49</td>\n",
              "      <td>56.74</td>\n",
              "      <td>241.0</td>\n",
              "      <td>0.08293</td>\n",
              "      <td>0.07698</td>\n",
              "      <td>0.04721</td>\n",
              "      <td>0.02381</td>\n",
              "      <td>0.1930</td>\n",
              "      <td>0.06621</td>\n",
              "      <td>0.5381</td>\n",
              "      <td>1.2000</td>\n",
              "      <td>4.2770</td>\n",
              "      <td>30.180</td>\n",
              "      <td>0.010930</td>\n",
              "      <td>0.02899</td>\n",
              "      <td>0.032140</td>\n",
              "      <td>0.015060</td>\n",
              "      <td>0.02837</td>\n",
              "      <td>0.004174</td>\n",
              "      <td>9.981</td>\n",
              "      <td>17.70</td>\n",
              "      <td>65.27</td>\n",
              "      <td>302.0</td>\n",
              "      <td>0.1015</td>\n",
              "      <td>0.12480</td>\n",
              "      <td>0.09441</td>\n",
              "      <td>0.04762</td>\n",
              "      <td>0.2434</td>\n",
              "      <td>0.07431</td>\n",
              "    </tr>\n",
              "  </tbody>\n",
              "</table>\n",
              "</div>"
            ],
            "text/plain": [
              "         id  diagnosis  ...  symmetry_worst  fractal_dimension_worst\n",
              "0    863270          0  ...          0.2983                  0.07185\n",
              "1  87556202          1  ...          0.3000                  0.08701\n",
              "2    858970          0  ...          0.3557                  0.08020\n",
              "3    909220          0  ...          0.2725                  0.07234\n",
              "4   9010333          0  ...          0.2434                  0.07431\n",
              "\n",
              "[5 rows x 32 columns]"
            ]
          },
          "metadata": {
            "tags": []
          },
          "execution_count": 63
        }
      ]
    },
    {
      "cell_type": "code",
      "metadata": {
        "id": "QFowcYYA4zKH",
        "colab_type": "code",
        "colab": {
          "base_uri": "https://localhost:8080/",
          "height": 584
        },
        "outputId": "73b632a3-7db4-47ed-fb62-3a10a61f75ea"
      },
      "source": [
        "# Create pair plot\n",
        "\n",
        "sns.pairplot(df.iloc[:, 1:5], hue='diagnosis')"
      ],
      "execution_count": 67,
      "outputs": [
        {
          "output_type": "execute_result",
          "data": {
            "text/plain": [
              "<seaborn.axisgrid.PairGrid at 0x7f1a80057c50>"
            ]
          },
          "metadata": {
            "tags": []
          },
          "execution_count": 67
        },
        {
          "output_type": "display_data",
          "data": {
            "image/png": "[encoded data removed]",
            "text/plain": [
              "<Figure size 595.5x540 with 12 Axes>"
            ]
          },
          "metadata": {
            "tags": [],
            "needs_background": "light"
          }
        }
      ]
    },
    {
      "cell_type": "code",
      "metadata": {
        "id": "4i0OOmaf5cWu",
        "colab_type": "code",
        "colab": {
          "base_uri": "https://localhost:8080/",
          "height": 427
        },
        "outputId": "169319d4-1777-401d-d2f8-48bd9dbd7867"
      },
      "source": [
        "# Correlation study\n",
        "\n",
        "df.iloc[:, 1:12].corr()"
      ],
      "execution_count": 68,
      "outputs": [
        {
          "output_type": "execute_result",
          "data": {
            "text/html": [
              "<div>\n",
              "<style scoped>\n",
              "    .dataframe tbody tr th:only-of-type {\n",
              "        vertical-align: middle;\n",
              "    }\n",
              "\n",
              "    .dataframe tbody tr th {\n",
              "        vertical-align: top;\n",
              "    }\n",
              "\n",
              "    .dataframe thead th {\n",
              "        text-align: right;\n",
              "    }\n",
              "</style>\n",
              "<table border=\"1\" class=\"dataframe\">\n",
              "  <thead>\n",
              "    <tr style=\"text-align: right;\">\n",
              "      <th></th>\n",
              "      <th>diagnosis</th>\n",
              "      <th>radius_mean</th>\n",
              "      <th>texture_mean</th>\n",
              "      <th>perimeter_mean</th>\n",
              "      <th>area_mean</th>\n",
              "      <th>smoothness_mean</th>\n",
              "      <th>compactness_mean</th>\n",
              "      <th>concavity_mean</th>\n",
              "      <th>concave points_mean</th>\n",
              "      <th>symmetry_mean</th>\n",
              "      <th>fractal_dimension_mean</th>\n",
              "    </tr>\n",
              "  </thead>\n",
              "  <tbody>\n",
              "    <tr>\n",
              "      <th>diagnosis</th>\n",
              "      <td>1.000000</td>\n",
              "      <td>0.729067</td>\n",
              "      <td>0.418163</td>\n",
              "      <td>0.740579</td>\n",
              "      <td>0.706959</td>\n",
              "      <td>0.368011</td>\n",
              "      <td>0.576999</td>\n",
              "      <td>0.666474</td>\n",
              "      <td>0.776692</td>\n",
              "      <td>0.304685</td>\n",
              "      <td>-0.048867</td>\n",
              "    </tr>\n",
              "    <tr>\n",
              "      <th>radius_mean</th>\n",
              "      <td>0.729067</td>\n",
              "      <td>1.000000</td>\n",
              "      <td>0.372022</td>\n",
              "      <td>0.998041</td>\n",
              "      <td>0.987387</td>\n",
              "      <td>0.146356</td>\n",
              "      <td>0.471479</td>\n",
              "      <td>0.639038</td>\n",
              "      <td>0.821923</td>\n",
              "      <td>0.099997</td>\n",
              "      <td>-0.353722</td>\n",
              "    </tr>\n",
              "    <tr>\n",
              "      <th>texture_mean</th>\n",
              "      <td>0.418163</td>\n",
              "      <td>0.372022</td>\n",
              "      <td>1.000000</td>\n",
              "      <td>0.376426</td>\n",
              "      <td>0.375312</td>\n",
              "      <td>-0.015511</td>\n",
              "      <td>0.219548</td>\n",
              "      <td>0.298666</td>\n",
              "      <td>0.321181</td>\n",
              "      <td>0.068956</td>\n",
              "      <td>-0.103760</td>\n",
              "    </tr>\n",
              "    <tr>\n",
              "      <th>perimeter_mean</th>\n",
              "      <td>0.740579</td>\n",
              "      <td>0.998041</td>\n",
              "      <td>0.376426</td>\n",
              "      <td>1.000000</td>\n",
              "      <td>0.987446</td>\n",
              "      <td>0.182992</td>\n",
              "      <td>0.520413</td>\n",
              "      <td>0.677130</td>\n",
              "      <td>0.849394</td>\n",
              "      <td>0.132305</td>\n",
              "      <td>-0.307171</td>\n",
              "    </tr>\n",
              "    <tr>\n",
              "      <th>area_mean</th>\n",
              "      <td>0.706959</td>\n",
              "      <td>0.987387</td>\n",
              "      <td>0.375312</td>\n",
              "      <td>0.987446</td>\n",
              "      <td>1.000000</td>\n",
              "      <td>0.158791</td>\n",
              "      <td>0.473498</td>\n",
              "      <td>0.658053</td>\n",
              "      <td>0.829000</td>\n",
              "      <td>0.113054</td>\n",
              "      <td>-0.319084</td>\n",
              "    </tr>\n",
              "    <tr>\n",
              "      <th>smoothness_mean</th>\n",
              "      <td>0.368011</td>\n",
              "      <td>0.146356</td>\n",
              "      <td>-0.015511</td>\n",
              "      <td>0.182992</td>\n",
              "      <td>0.158791</td>\n",
              "      <td>1.000000</td>\n",
              "      <td>0.687211</td>\n",
              "      <td>0.524638</td>\n",
              "      <td>0.541455</td>\n",
              "      <td>0.542142</td>\n",
              "      <td>0.585435</td>\n",
              "    </tr>\n",
              "    <tr>\n",
              "      <th>compactness_mean</th>\n",
              "      <td>0.576999</td>\n",
              "      <td>0.471479</td>\n",
              "      <td>0.219548</td>\n",
              "      <td>0.520413</td>\n",
              "      <td>0.473498</td>\n",
              "      <td>0.687211</td>\n",
              "      <td>1.000000</td>\n",
              "      <td>0.860098</td>\n",
              "      <td>0.815965</td>\n",
              "      <td>0.576842</td>\n",
              "      <td>0.566703</td>\n",
              "    </tr>\n",
              "    <tr>\n",
              "      <th>concavity_mean</th>\n",
              "      <td>0.666474</td>\n",
              "      <td>0.639038</td>\n",
              "      <td>0.298666</td>\n",
              "      <td>0.677130</td>\n",
              "      <td>0.658053</td>\n",
              "      <td>0.524638</td>\n",
              "      <td>0.860098</td>\n",
              "      <td>1.000000</td>\n",
              "      <td>0.903274</td>\n",
              "      <td>0.472605</td>\n",
              "      <td>0.340997</td>\n",
              "    </tr>\n",
              "    <tr>\n",
              "      <th>concave points_mean</th>\n",
              "      <td>0.776692</td>\n",
              "      <td>0.821923</td>\n",
              "      <td>0.321181</td>\n",
              "      <td>0.849394</td>\n",
              "      <td>0.829000</td>\n",
              "      <td>0.541455</td>\n",
              "      <td>0.815965</td>\n",
              "      <td>0.903274</td>\n",
              "      <td>1.000000</td>\n",
              "      <td>0.408966</td>\n",
              "      <td>0.132950</td>\n",
              "    </tr>\n",
              "    <tr>\n",
              "      <th>symmetry_mean</th>\n",
              "      <td>0.304685</td>\n",
              "      <td>0.099997</td>\n",
              "      <td>0.068956</td>\n",
              "      <td>0.132305</td>\n",
              "      <td>0.113054</td>\n",
              "      <td>0.542142</td>\n",
              "      <td>0.576842</td>\n",
              "      <td>0.472605</td>\n",
              "      <td>0.408966</td>\n",
              "      <td>1.000000</td>\n",
              "      <td>0.483459</td>\n",
              "    </tr>\n",
              "    <tr>\n",
              "      <th>fractal_dimension_mean</th>\n",
              "      <td>-0.048867</td>\n",
              "      <td>-0.353722</td>\n",
              "      <td>-0.103760</td>\n",
              "      <td>-0.307171</td>\n",
              "      <td>-0.319084</td>\n",
              "      <td>0.585435</td>\n",
              "      <td>0.566703</td>\n",
              "      <td>0.340997</td>\n",
              "      <td>0.132950</td>\n",
              "      <td>0.483459</td>\n",
              "      <td>1.000000</td>\n",
              "    </tr>\n",
              "  </tbody>\n",
              "</table>\n",
              "</div>"
            ],
            "text/plain": [
              "                        diagnosis  ...  fractal_dimension_mean\n",
              "diagnosis                1.000000  ...               -0.048867\n",
              "radius_mean              0.729067  ...               -0.353722\n",
              "texture_mean             0.418163  ...               -0.103760\n",
              "perimeter_mean           0.740579  ...               -0.307171\n",
              "area_mean                0.706959  ...               -0.319084\n",
              "smoothness_mean          0.368011  ...                0.585435\n",
              "compactness_mean         0.576999  ...                0.566703\n",
              "concavity_mean           0.666474  ...                0.340997\n",
              "concave points_mean      0.776692  ...                0.132950\n",
              "symmetry_mean            0.304685  ...                0.483459\n",
              "fractal_dimension_mean  -0.048867  ...                1.000000\n",
              "\n",
              "[11 rows x 11 columns]"
            ]
          },
          "metadata": {
            "tags": []
          },
          "execution_count": 68
        }
      ]
    },
    {
      "cell_type": "code",
      "metadata": {
        "id": "yiMi8o5W92pI",
        "colab_type": "code",
        "colab": {
          "base_uri": "https://localhost:8080/",
          "height": 725
        },
        "outputId": "1b75cf90-ba55-4807-95b9-f1fedc34c515"
      },
      "source": [
        "# Visualize the correlations\n",
        "\n",
        "plt.figure(figsize=(10, 10))\n",
        "sns.heatmap(df.iloc[:, 1:12].corr(), annot=True, fmt='.0%')"
      ],
      "execution_count": 74,
      "outputs": [
        {
          "output_type": "execute_result",
          "data": {
            "text/plain": [
              "<matplotlib.axes._subplots.AxesSubplot at 0x7f1a7dc512e8>"
            ]
          },
          "metadata": {
            "tags": []
          },
          "execution_count": 74
        },
        {
          "output_type": "display_data",
          "data": {
            "image/png": "[encoded data removed]",
            "text/plain": [
              "<Figure size 720x720 with 2 Axes>"
            ]
          },
          "metadata": {
            "tags": [],
            "needs_background": "light"
          }
        }
      ]
    },
    {
      "cell_type": "markdown",
      "metadata": {
        "id": "wcJ-rB_-FIG7",
        "colab_type": "text"
      },
      "source": [
        "### Create model(s)"
      ]
    },
    {
      "cell_type": "code",
      "metadata": {
        "id": "wfUM6MNoFKpv",
        "colab_type": "code",
        "colab": {
          "base_uri": "https://localhost:8080/",
          "height": 34
        },
        "outputId": "b3a5c144-0643-46ea-9355-5156e771a038"
      },
      "source": [
        "# Split data set: independant(X) and dependant(Y)\n",
        "# it also changes the np dataframe to array\n",
        "\n",
        "X = df.iloc[:, 2:31].values\n",
        "y = df.iloc[:, 1].values\n",
        "\n",
        "type(X)"
      ],
      "execution_count": 78,
      "outputs": [
        {
          "output_type": "execute_result",
          "data": {
            "text/plain": [
              "numpy.ndarray"
            ]
          },
          "metadata": {
            "tags": []
          },
          "execution_count": 78
        }
      ]
    },
    {
      "cell_type": "code",
      "metadata": {
        "id": "jAhgaTZAFmIE",
        "colab_type": "code",
        "colab": {}
      },
      "source": [
        "from sklearn.model_selection import train_test_split\n",
        "\n",
        "X_train, X_test, y_train, y_test = train_test_split(X, y, test_size=.25, random_state=0)"
      ],
      "execution_count": 82,
      "outputs": []
    },
    {
      "cell_type": "code",
      "metadata": {
        "id": "bGC3W3mAHz3e",
        "colab_type": "code",
        "colab": {
          "base_uri": "https://localhost:8080/",
          "height": 51
        },
        "outputId": "b5d42eaa-466f-4988-a71f-d80f6db8c39a"
      },
      "source": [
        "print(len(X_train))\n",
        "print(len(X_test))"
      ],
      "execution_count": 83,
      "outputs": [
        {
          "output_type": "stream",
          "text": [
            "213\n",
            "71\n"
          ],
          "name": "stdout"
        }
      ]
    },
    {
      "cell_type": "code",
      "metadata": {
        "id": "9I4bBGSpH9pG",
        "colab_type": "code",
        "colab": {}
      },
      "source": [
        "# Feature scaling: scale the data\n",
        "\n",
        "from sklearn.preprocessing import StandardScaler\n",
        "sc = StandardScaler()\n",
        "\n",
        "X_train = sc.fit_transform(X_train)\n",
        "X_test = sc.fit_transform(X_test)"
      ],
      "execution_count": 84,
      "outputs": []
    },
    {
      "cell_type": "code",
      "metadata": {
        "id": "-GzZzcunIr0d",
        "colab_type": "code",
        "colab": {}
      },
      "source": [
        "# Create a function for models\n",
        "\n",
        "def models(X_train, y_train):\n",
        "    # Logistic Regression model\n",
        "    from sklearn.linear_model import LogisticRegression\n",
        "    log = LogisticRegression(random_state=0)\n",
        "    log.fit(X_train, y_train)\n",
        "    # Decision Tree\n",
        "    from sklearn.tree import DecisionTreeClassifier\n",
        "    tree = DecisionTreeClassifier(criterion='entropy', random_state=0)\n",
        "    tree.fit(X_train, y_train)\n",
        "    # Random Forest Classifier\n",
        "    from sklearn.ensemble import RandomForestClassifier\n",
        "    forest = RandomForestClassifier(n_estimators=10, criterion='entropy', random_state=0)\n",
        "    forest.fit(X_train, y_train)\n",
        "    # Print model accuracy\n",
        "    print('[0]Logistic Regression Training Accuracy', log.score(X_train, y_train))\n",
        "    print('[1]Decision Tree Training Accuracy', tree.score(X_train, y_train))\n",
        "    print('[2]Random Forest Training Accuracy', forest.score(X_train, y_train))\n",
        "\n",
        "    return log, tree, forest"
      ],
      "execution_count": 96,
      "outputs": []
    },
    {
      "cell_type": "code",
      "metadata": {
        "id": "qw4utrnfIvue",
        "colab_type": "code",
        "colab": {
          "base_uri": "https://localhost:8080/",
          "height": 68
        },
        "outputId": "535452f4-6819-4a44-a5a1-b6b14fe624bc"
      },
      "source": [
        "model = models(X_train, y_train)"
      ],
      "execution_count": 99,
      "outputs": [
        {
          "output_type": "stream",
          "text": [
            "[0]Logistic Regression Training Accuracy 0.9906103286384976\n",
            "[1]Decision Tree Training Accuracy 1.0\n",
            "[2]Random Forest Training Accuracy 0.9953051643192489\n"
          ],
          "name": "stdout"
        }
      ]
    },
    {
      "cell_type": "code",
      "metadata": {
        "id": "2qEs_EkKLDsm",
        "colab_type": "code",
        "colab": {
          "base_uri": "https://localhost:8080/",
          "height": 68
        },
        "outputId": "d853af39-0cd3-4d85-ad70-f8bd79ee2b85"
      },
      "source": [
        "# Now need to test model with confusion matrix\n",
        "\n",
        "from sklearn.metrics import confusion_matrix\n",
        "\n",
        "cm = confusion_matrix(y_test, model[0].predict(X_test))\n",
        "print(cm)\n",
        "'''\n",
        "  TP | FP\n",
        "  FN | TN \n",
        "'''\n",
        "\n",
        "TP = cm[0][0]\n",
        "TN = cm[1][1]\n",
        "FP = cm[0][1]\n",
        "FN = cm[1][0]\n",
        "\n",
        "print('Testing Accuracy is ', (TP + TN)*100/(TP+TN+FP+FN), '%')"
      ],
      "execution_count": 103,
      "outputs": [
        {
          "output_type": "stream",
          "text": [
            "[[42  0]\n",
            " [ 6 23]]\n",
            "Testing Accuracy is  91.54929577464789 %\n"
          ],
          "name": "stdout"
        }
      ]
    },
    {
      "cell_type": "code",
      "metadata": {
        "id": "_xAxPtnrNaPh",
        "colab_type": "code",
        "colab": {
          "base_uri": "https://localhost:8080/",
          "height": 272
        },
        "outputId": "aa9991cd-7d2f-4639-daef-a211f1a12d57"
      },
      "source": [
        "for i in range(len(model)):\n",
        "    print('Model', i)\n",
        "    cm = confusion_matrix(y_test, model[i].predict(X_test))\n",
        "    TP = cm[0][0]\n",
        "    TN = cm[1][1]\n",
        "    FP = cm[0][1]\n",
        "    FN = cm[1][0]\n",
        "    print(cm)\n",
        "    print('Testing Accuracy is ', (TP + TN)*100/(TP+TN+FP+FN), '%')\n",
        "    print()"
      ],
      "execution_count": 111,
      "outputs": [
        {
          "output_type": "stream",
          "text": [
            "Model 0\n",
            "[[42  0]\n",
            " [ 6 23]]\n",
            "Testing Accuracy is  91.54929577464789 %\n",
            "\n",
            "Model 1\n",
            "[[40  2]\n",
            " [ 4 25]]\n",
            "Testing Accuracy is  91.54929577464789 %\n",
            "\n",
            "Model 2\n",
            "[[42  0]\n",
            " [ 5 24]]\n",
            "Testing Accuracy is  92.95774647887323 %\n",
            "\n"
          ],
          "name": "stdout"
        }
      ]
    },
    {
      "cell_type": "code",
      "metadata": {
        "id": "t0r-50OreFgW",
        "colab_type": "code",
        "colab": {
          "base_uri": "https://localhost:8080/",
          "height": 629
        },
        "outputId": "5792bf4a-6398-431b-e218-97a91a0b067d"
      },
      "source": [
        "# Another way to get metrics of the model\n",
        "\n",
        "from sklearn.metrics import classification_report\n",
        "from sklearn.metrics import accuracy_score\n",
        "\n",
        "for i in range(len(model)):\n",
        "    print(classification_report(y_test, model[i].predict(X_test)))\n",
        "    print(accuracy_score(y_test, model[i].predict(X_test)))\n",
        "    print('*****************************************')\n",
        "    print()"
      ],
      "execution_count": 116,
      "outputs": [
        {
          "output_type": "stream",
          "text": [
            "              precision    recall  f1-score   support\n",
            "\n",
            "           0       0.88      1.00      0.93        42\n",
            "           1       1.00      0.79      0.88        29\n",
            "\n",
            "    accuracy                           0.92        71\n",
            "   macro avg       0.94      0.90      0.91        71\n",
            "weighted avg       0.93      0.92      0.91        71\n",
            "\n",
            "0.9154929577464789\n",
            "*****************************************\n",
            "\n",
            "              precision    recall  f1-score   support\n",
            "\n",
            "           0       0.91      0.95      0.93        42\n",
            "           1       0.93      0.86      0.89        29\n",
            "\n",
            "    accuracy                           0.92        71\n",
            "   macro avg       0.92      0.91      0.91        71\n",
            "weighted avg       0.92      0.92      0.91        71\n",
            "\n",
            "0.9154929577464789\n",
            "*****************************************\n",
            "\n",
            "              precision    recall  f1-score   support\n",
            "\n",
            "           0       0.89      1.00      0.94        42\n",
            "           1       1.00      0.83      0.91        29\n",
            "\n",
            "    accuracy                           0.93        71\n",
            "   macro avg       0.95      0.91      0.92        71\n",
            "weighted avg       0.94      0.93      0.93        71\n",
            "\n",
            "0.9295774647887324\n",
            "*****************************************\n",
            "\n"
          ],
          "name": "stdout"
        }
      ]
    },
    {
      "cell_type": "code",
      "metadata": {
        "id": "GoAkXS2UfbHg",
        "colab_type": "code",
        "colab": {
          "base_uri": "https://localhost:8080/",
          "height": 102
        },
        "outputId": "28ed156f-4119-4646-b7a0-264afefb7149"
      },
      "source": [
        "# Prediction with random forest classifier\n",
        "\n",
        "pred = model[2].predict(X_test)\n",
        "print(pred)\n",
        "print()\n",
        "print(y_test)"
      ],
      "execution_count": 118,
      "outputs": [
        {
          "output_type": "stream",
          "text": [
            "[0 0 0 1 1 0 0 0 0 0 0 0 0 0 0 0 0 0 0 0 0 0 0 1 1 0 1 0 1 0 0 1 1 0 0 1 0\n",
            " 1 0 0 1 0 0 0 1 1 0 0 1 0 1 1 0 0 1 0 0 1 0 1 0 0 0 0 1 1 1 0 1 1 0]\n",
            "\n",
            "[0 0 0 1 1 1 0 0 0 0 0 0 0 0 0 0 0 0 0 0 0 0 0 1 1 0 1 0 1 0 1 1 1 1 0 1 0\n",
            " 1 0 0 1 0 0 0 1 1 0 0 1 0 1 1 0 0 1 0 0 1 0 1 0 0 0 1 1 1 1 0 1 1 1]\n"
          ],
          "name": "stdout"
        }
      ]
    },
    {
      "cell_type": "code",
      "metadata": {
        "id": "7WC1OA9nhqL2",
        "colab_type": "code",
        "colab": {}
      },
      "source": [
        ""
      ],
      "execution_count": null,
      "outputs": []
    }
  ]
}