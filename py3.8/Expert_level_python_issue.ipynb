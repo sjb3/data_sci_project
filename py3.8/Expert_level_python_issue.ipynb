{
  "nbformat": 4,
  "nbformat_minor": 0,
  "metadata": {
    "colab": {
      "name": "Expert_level_python_issue.ipynb",
      "provenance": [],
      "collapsed_sections": []
    },
    "kernelspec": {
      "name": "python3",
      "display_name": "Python 3"
    }
  },
  "cells": [
    {
      "cell_type": "code",
      "metadata": {
        "id": "Vz24ElUBglyq",
        "colab_type": "code",
        "colab": {
          "base_uri": "https://localhost:8080/",
          "height": 34
        },
        "outputId": "6c6a069e-ba9b-4b6c-8ae1-8c47a98ebee8"
      },
      "source": [
        "str = 'SuanLab'\n",
        "rev = ''\n",
        "for c in str:\n",
        "  rev = c + rev\n",
        "\n",
        "print(rev)\n"
      ],
      "execution_count": 5,
      "outputs": [
        {
          "output_type": "stream",
          "text": [
            "baLnauS\n"
          ],
          "name": "stdout"
        }
      ]
    },
    {
      "cell_type": "markdown",
      "metadata": {
        "id": "KBR_Z1cRzq5T",
        "colab_type": "text"
      },
      "source": [
        "### 1. Expert level python issue: Overview"
      ]
    },
    {
      "cell_type": "code",
      "metadata": {
        "id": "rY0Ar6rbg9ua",
        "colab_type": "code",
        "colab": {
          "base_uri": "https://localhost:8080/",
          "height": 68
        },
        "outputId": "f211b0d3-bb40-4ca0-8ed2-88ea7f6a8d8c"
      },
      "source": [
        "def make_class(x):\n",
        "  class Dog:\n",
        "    def __init__(self, name):\n",
        "      self.name = name\n",
        "\n",
        "    def print_value(self):  \n",
        "      print(x)\n",
        "  return Dog\n",
        "\n",
        "cls = make_class(10)\n",
        "print(cls)\n",
        "\n",
        "d = cls('Tim')\n",
        "print(d.name)\n",
        "d.print_value()"
      ],
      "execution_count": null,
      "outputs": [
        {
          "output_type": "stream",
          "text": [
            "<class '__main__.make_class.<locals>.Dog'>\n",
            "Tim\n",
            "10\n"
          ],
          "name": "stdout"
        }
      ]
    },
    {
      "cell_type": "code",
      "metadata": {
        "id": "6Qt7Hjj-g_kz",
        "colab_type": "code",
        "colab": {
          "base_uri": "https://localhost:8080/",
          "height": 51
        },
        "outputId": "fcc2f5f8-1034-4338-eb30-7af7dc78402b"
      },
      "source": [
        "# 1-1\n",
        "\n",
        "for i in range(10):\n",
        "  def show():\n",
        "    print(i * 2)\n",
        "\n",
        "  # show() => return list of values\n",
        "print(show()) # => return 18\n"
      ],
      "execution_count": 8,
      "outputs": [
        {
          "output_type": "stream",
          "text": [
            "18\n",
            "None\n"
          ],
          "name": "stdout"
        }
      ]
    },
    {
      "cell_type": "code",
      "metadata": {
        "id": "JVT9bC-VhBk6",
        "colab_type": "code",
        "colab": {
          "base_uri": "https://localhost:8080/",
          "height": 34
        },
        "outputId": "e3d29e30-83b7-4e92-9345-1f2314e2e4f4"
      },
      "source": [
        "# 1-2\n",
        "\n",
        "def func(x):\n",
        "  if x == 1:\n",
        "    def return_val():\n",
        "      print('X is equal to 1')\n",
        "  else:\n",
        "    def return_val():\n",
        "        print('X is not 1')\n",
        "  return return_val\n",
        "\n",
        "new_func = func(1)\n",
        "\n",
        "new_func()"
      ],
      "execution_count": null,
      "outputs": [
        {
          "output_type": "stream",
          "text": [
            "X is equal to 1\n"
          ],
          "name": "stdout"
        }
      ]
    },
    {
      "cell_type": "code",
      "metadata": {
        "id": "g6yKM8Nihmff",
        "colab_type": "code",
        "colab": {
          "base_uri": "https://localhost:8080/",
          "height": 68
        },
        "outputId": "32cea919-f450-4a5e-ada6-3044036bf094"
      },
      "source": [
        "import inspect\n",
        "\n",
        "# print(id(new_func))\n",
        "print(inspect.getsource(new_func))"
      ],
      "execution_count": null,
      "outputs": [
        {
          "output_type": "stream",
          "text": [
            "    def return_val():\n",
            "      print('X is equal to 1')\n",
            "\n"
          ],
          "name": "stdout"
        }
      ]
    },
    {
      "cell_type": "markdown",
      "metadata": {
        "id": "75eR93MtzxoW",
        "colab_type": "text"
      },
      "source": [
        "###2. Expert level python: Dunder/Magic Methods & The Python Data Model"
      ]
    },
    {
      "cell_type": "code",
      "metadata": {
        "id": "E5sIIS85t_oF",
        "colab_type": "code",
        "colab": {
          "base_uri": "https://localhost:8080/",
          "height": 68
        },
        "outputId": "746da939-cfaf-4552-d442-c9893a42414a"
      },
      "source": [
        "# Magic methods are not meant to be invoked directly by you, but the invocation happens internally \n",
        "# from the class on a certain action. For example, when you add two numbers using the + operator, \n",
        "# internally, the __add__() method will be called. Built-in classes in Python define many magic methods.\n",
        "\n",
        "class Person:\n",
        "  def __init__(self, name):\n",
        "    self.name = name\n",
        "\n",
        "  def __repr__(self):\n",
        "    return f'Person({self.name})'\n",
        "\n",
        "  def __mul__(self, x):\n",
        "    if type(x) is not int:\n",
        "      raise Exception('Invalid')\n",
        "    self.name = self.name * x\n",
        "\n",
        "  def __call__(self, y):\n",
        "    print('Call my num', y)\n",
        "\n",
        "  def __len__(self):\n",
        "    return len(self.name)\n",
        "\n",
        "p = Person('Timmy')\n",
        "p * 4\n",
        "print(p)\n",
        "print(21)\n",
        "print(len(p))\n"
      ],
      "execution_count": 9,
      "outputs": [
        {
          "output_type": "stream",
          "text": [
            "Person(TimmyTimmyTimmyTimmy)\n",
            "21\n",
            "20\n"
          ],
          "name": "stdout"
        }
      ]
    },
    {
      "cell_type": "code",
      "metadata": {
        "id": "SM8bglcou7TB",
        "colab_type": "code",
        "colab": {
          "base_uri": "https://localhost:8080/",
          "height": 34
        },
        "outputId": "221971d8-16bd-4720-ea2e-0973a0eeb106"
      },
      "source": [
        "# 2-1\n",
        "\n",
        "from queue import Queue as q\n",
        "import inspect\n",
        "\n",
        "class Queue(q):\n",
        "  def __repr__(self):\n",
        "    return f'Queue({self._qsize()})'\n",
        "\n",
        "  def __add__(self, item):\n",
        "    self.put(item)\n",
        "    \n",
        "  def __sub__(self, item):\n",
        "    self.get()\n",
        "\n",
        "qu = Queue()\n",
        "qu + 9\n",
        "qu + 7\n",
        "qu - 0\n",
        "print(qu)"
      ],
      "execution_count": 12,
      "outputs": [
        {
          "output_type": "stream",
          "text": [
            "Queue(1)\n"
          ],
          "name": "stdout"
        }
      ]
    },
    {
      "cell_type": "markdown",
      "metadata": {
        "id": "zzfjvcdNz7q2",
        "colab_type": "text"
      },
      "source": [
        "###3. Expert level python: Decorators\n"
      ]
    },
    {
      "cell_type": "code",
      "metadata": {
        "id": "bSdyAgq6vazN",
        "colab_type": "code",
        "colab": {
          "base_uri": "https://localhost:8080/",
          "height": 68
        },
        "outputId": "58925f14-0197-42dc-ef0f-c8e2d845066d"
      },
      "source": [
        "def func(f):\n",
        "  def wrapper():\n",
        "    print('Started')\n",
        "    f()\n",
        "    print('Bye')\n",
        "  return wrapper\n",
        "\n",
        "def func2():\n",
        "  print('I am func2')\n",
        "\n",
        "# x = func('hey')\n",
        "# x()\n",
        "\n",
        "x = func(func2)\n",
        "x()"
      ],
      "execution_count": null,
      "outputs": [
        {
          "output_type": "stream",
          "text": [
            "Started\n",
            " I am func2\n",
            "Bye\n"
          ],
          "name": "stdout"
        }
      ]
    },
    {
      "cell_type": "code",
      "metadata": {
        "id": "cq_jTkUO3PSn",
        "colab_type": "code",
        "colab": {
          "base_uri": "https://localhost:8080/",
          "height": 68
        },
        "outputId": "8c80833b-5d88-4699-a97e-065c374063b5"
      },
      "source": [
        "def f(f): # decorator\n",
        "  def wrapper():\n",
        "    print('Started')\n",
        "    f()\n",
        "    print('Bye')\n",
        "  return wrapper\n",
        "\n",
        "def f2():\n",
        "  print('I am func2')\n",
        "\n",
        "f2 = f(f2)\n",
        "f2()"
      ],
      "execution_count": null,
      "outputs": [
        {
          "output_type": "stream",
          "text": [
            "Started\n",
            "I am func2\n",
            "Bye\n"
          ],
          "name": "stdout"
        }
      ]
    },
    {
      "cell_type": "code",
      "metadata": {
        "id": "skUozq-de1kb",
        "colab_type": "code",
        "colab": {
          "base_uri": "https://localhost:8080/",
          "height": 68
        },
        "outputId": "60a104c4-4fde-43ca-de31-ec213edca6ba"
      },
      "source": [
        "def func(f): \n",
        "  def wrapper(*args, **kwargs):\n",
        "    print('Started')\n",
        "    rv = f(*args, **kwargs)\n",
        "    print('Bye')\n",
        "    return rv\n",
        "  return wrapper\n",
        "\n",
        "# insteas\n",
        "@func\n",
        "def f2(x, y):\n",
        "  # print(x + y)\n",
        "  return y\n",
        "\n",
        "@func\n",
        "def f3():\n",
        "  print('I am func3')\n",
        "\n",
        "# f2 = f(f2)\n",
        "# f2(5, 3)\n",
        "# f3()\n",
        "\n",
        "x = f2(5, 3)\n",
        "print(x)"
      ],
      "execution_count": null,
      "outputs": [
        {
          "output_type": "stream",
          "text": [
            "Started\n",
            "Bye\n",
            "3\n"
          ],
          "name": "stdout"
        }
      ]
    },
    {
      "cell_type": "markdown",
      "metadata": {
        "id": "aXJ0SBD__hws",
        "colab_type": "text"
      },
      "source": [
        "### 4. Generators\n"
      ]
    },
    {
      "cell_type": "code",
      "metadata": {
        "id": "4RujRZTm70M0",
        "colab_type": "code",
        "colab": {
          "base_uri": "https://localhost:8080/",
          "height": 187
        },
        "outputId": "e80aa889-9a51-452c-d25f-b2fc7a9c82bd"
      },
      "source": [
        "class Gen:\n",
        "  def __init__(self, n):\n",
        "    self.n = n\n",
        "    self.last = 0\n",
        "\n",
        "  def __next__(self):\n",
        "    return self.next()\n",
        "\n",
        "  def next(self):\n",
        "    if self.last == self.n:\n",
        "      raise StopIteration\n",
        "\n",
        "    rv = self.last ** 2\n",
        "    self.last += 1\n",
        "    return rv\n",
        "\n",
        "g = Gen(10)\n",
        "\n",
        "while True:\n",
        "  try:\n",
        "    print(next(g))\n",
        "\n",
        "  except StopIteration as e:\n",
        "    break\n",
        "\n",
        "\n",
        "  "
      ],
      "execution_count": 17,
      "outputs": [
        {
          "output_type": "stream",
          "text": [
            "0\n",
            "1\n",
            "4\n",
            "9\n",
            "16\n",
            "25\n",
            "36\n",
            "49\n",
            "64\n",
            "81\n"
          ],
          "name": "stdout"
        }
      ]
    },
    {
      "cell_type": "code",
      "metadata": {
        "id": "Cl45zr_E_rpN",
        "colab_type": "code",
        "colab": {
          "base_uri": "https://localhost:8080/",
          "height": 34
        },
        "outputId": "30aa2f7e-dfcc-4744-9ea0-e2d27d4c1659"
      },
      "source": [
        "def gen(n):\n",
        "  for i in range(n):\n",
        "    yield i ** 2\n",
        "\n",
        "gg = gen(10)\n",
        "\n",
        "print(next(gg))\n"
      ],
      "execution_count": 18,
      "outputs": [
        {
          "output_type": "stream",
          "text": [
            "0\n"
          ],
          "name": "stdout"
        }
      ]
    },
    {
      "cell_type": "code",
      "metadata": {
        "id": "T_oqNrPW_8wh",
        "colab_type": "code",
        "colab": {}
      },
      "source": [
        "# file = open('file.txt', 'w')\n",
        "# try:\n",
        "#   file.write('hello')\n",
        "# finally:\n",
        "#   file.close() "
      ],
      "execution_count": null,
      "outputs": []
    },
    {
      "cell_type": "code",
      "metadata": {
        "id": "lL_i8CGXGH9m",
        "colab_type": "code",
        "colab": {}
      },
      "source": [
        "with  open('file.txt', 'w') as file:\n",
        "  file.write('conext manager')"
      ],
      "execution_count": null,
      "outputs": []
    },
    {
      "cell_type": "code",
      "metadata": {
        "id": "dQ2QwcMDGLl7",
        "colab_type": "code",
        "colab": {
          "base_uri": "https://localhost:8080/",
          "height": 266
        },
        "outputId": "1685971f-37dc-42a6-e918-258cb0a26ec1"
      },
      "source": [
        "class File:\n",
        "  def __init__(self, filename, method):\n",
        "    self.file = open(filename, method)\n",
        "\n",
        "  def __enter__(self):\n",
        "    print('ENTER')\n",
        "    return self.file\n",
        "\n",
        "  def __exit__(self, type, value, traceback):\n",
        "    print(f'{type},{value},{traceback}')\n",
        "    print('EXIT')\n",
        "    return self.file.close()\n",
        "\n",
        "\n",
        "with File('file.txt', 'w') as f:\n",
        "  print('Middle')\n",
        "  f.write('hello')\n",
        "  raise Exception()"
      ],
      "execution_count": 19,
      "outputs": [
        {
          "output_type": "stream",
          "text": [
            "ENTER\n",
            "Middle\n",
            "<class 'Exception'>,,<traceback object at 0x7f3267705dc8>\n",
            "EXIT\n"
          ],
          "name": "stdout"
        },
        {
          "output_type": "error",
          "ename": "Exception",
          "evalue": "ignored",
          "traceback": [
            "\u001b[0;31m---------------------------------------------------------------------------\u001b[0m",
            "\u001b[0;31mException\u001b[0m                                 Traceback (most recent call last)",
            "\u001b[0;32m<ipython-input-19-dd22c61581ee>\u001b[0m in \u001b[0;36m<module>\u001b[0;34m()\u001b[0m\n\u001b[1;32m     16\u001b[0m   \u001b[0mprint\u001b[0m\u001b[0;34m(\u001b[0m\u001b[0;34m'Middle'\u001b[0m\u001b[0;34m)\u001b[0m\u001b[0;34m\u001b[0m\u001b[0;34m\u001b[0m\u001b[0m\n\u001b[1;32m     17\u001b[0m   \u001b[0mf\u001b[0m\u001b[0;34m.\u001b[0m\u001b[0mwrite\u001b[0m\u001b[0;34m(\u001b[0m\u001b[0;34m'hello'\u001b[0m\u001b[0;34m)\u001b[0m\u001b[0;34m\u001b[0m\u001b[0;34m\u001b[0m\u001b[0m\n\u001b[0;32m---> 18\u001b[0;31m   \u001b[0;32mraise\u001b[0m \u001b[0mException\u001b[0m\u001b[0;34m(\u001b[0m\u001b[0;34m)\u001b[0m\u001b[0;34m\u001b[0m\u001b[0;34m\u001b[0m\u001b[0m\n\u001b[0m",
            "\u001b[0;31mException\u001b[0m: "
          ]
        }
      ]
    },
    {
      "cell_type": "code",
      "metadata": {
        "id": "k6ZWkPMNOv5T",
        "colab_type": "code",
        "colab": {}
      },
      "source": [
        "from contextlib import contextmanager\n",
        "\n",
        "@contextmanager\n",
        "def file(filename, method):\n",
        "  print('Enter')\n",
        "  file = open(filename, method)\n",
        "  yield file\n",
        "  file.close()\n",
        "  print('Exit')"
      ],
      "execution_count": 20,
      "outputs": []
    },
    {
      "cell_type": "code",
      "metadata": {
        "id": "sDbcqO14RLN8",
        "colab_type": "code",
        "colab": {
          "base_uri": "https://localhost:8080/",
          "height": 51
        },
        "outputId": "22b12167-4adf-40e2-9e14-cdd9903e6107"
      },
      "source": [
        "with file('text.txt', 'w') as f:\n",
        "\n",
        "\n",
        "  f.write('hello')"
      ],
      "execution_count": 21,
      "outputs": [
        {
          "output_type": "stream",
          "text": [
            "Enter\n",
            "Exit\n"
          ],
          "name": "stdout"
        }
      ]
    },
    {
      "cell_type": "code",
      "metadata": {
        "id": "uuigZytaSKgO",
        "colab_type": "code",
        "colab": {
          "base_uri": "https://localhost:8080/",
          "height": 34
        },
        "outputId": "93615bfb-e1a5-40e0-aadd-267a66f7d75a"
      },
      "source": [
        "# '==' vs 'is'\n",
        "\n",
        "# == identity, type and value\n",
        "# is identity, require same memory location/address\n",
        "\n",
        "l1 = [1,2,3,4,5]\n",
        "l2 = [1,2,3,4,5]\n",
        "\n",
        "comp = l1 is l2\n",
        "\n",
        "if comp:\n",
        "  print(True)\n",
        "else:\n",
        "  print(False)"
      ],
      "execution_count": null,
      "outputs": [
        {
          "output_type": "stream",
          "text": [
            "False\n"
          ],
          "name": "stdout"
        }
      ]
    },
    {
      "cell_type": "code",
      "metadata": {
        "id": "U5r2GhynVGMr",
        "colab_type": "code",
        "colab": {}
      },
      "source": [
        "# Closure\n",
        "\n",
        "# A Closure is a function object that remembers values in enclosing scopes even \n",
        "# if they are not present in memory. Let us get to it step by step. Firstly, \n",
        "# a Nested Function is a function defined inside another function. \n",
        "# It's very important to note that the nested functions can access the variables of the enclosing scope."
      ],
      "execution_count": null,
      "outputs": []
    },
    {
      "cell_type": "code",
      "metadata": {
        "id": "u0Kv5OARdB6q",
        "colab_type": "code",
        "colab": {}
      },
      "source": [
        "class Person(object):\n",
        "  gender = ''\n",
        "  items = []\n",
        "\n",
        "  def __init__(self, name, age, location):\n",
        "    self.name = name\n",
        "    self.age = age\n",
        "    self.location = location\n",
        "\n",
        "  def greeting(self):\n",
        "    print('whatever') \n",
        "  \n",
        "  def sing(self):\n",
        "    self.greeting()\n",
        "    print('lala')\n",
        "  \n",
        "  def addItems(self, item):\n",
        "    self.items.append(item)\n",
        "\n",
        "  def getItem(self):\n",
        "    print(self.items)"
      ],
      "execution_count": 22,
      "outputs": []
    },
    {
      "cell_type": "code",
      "metadata": {
        "id": "4TycXWwZePzZ",
        "colab_type": "code",
        "colab": {}
      },
      "source": [
        "p1 = Person('Chuchu', 50, 'PDX')"
      ],
      "execution_count": null,
      "outputs": []
    },
    {
      "cell_type": "code",
      "metadata": {
        "id": "QMsnHL23ean8",
        "colab_type": "code",
        "colab": {}
      },
      "source": [
        "p1.addItems('Cell phone')"
      ],
      "execution_count": null,
      "outputs": []
    },
    {
      "cell_type": "code",
      "metadata": {
        "id": "PebBFLeNgQec",
        "colab_type": "code",
        "colab": {
          "base_uri": "https://localhost:8080/",
          "height": 34
        },
        "outputId": "0c1b1199-fa86-4bc7-9d61-0bdc84fef497"
      },
      "source": [
        "p1.getItem()"
      ],
      "execution_count": null,
      "outputs": [
        {
          "output_type": "stream",
          "text": [
            "['Cell phone']\n"
          ],
          "name": "stdout"
        }
      ]
    },
    {
      "cell_type": "code",
      "metadata": {
        "id": "ScN9iG40h46N",
        "colab_type": "code",
        "colab": {}
      },
      "source": [
        "class Calc(object):\n",
        "  @staticmethod\n",
        "  def addition(a, b):\n",
        "    return a + b"
      ],
      "execution_count": null,
      "outputs": []
    },
    {
      "cell_type": "code",
      "metadata": {
        "id": "J9u4CLDitGh2",
        "colab_type": "code",
        "colab": {
          "base_uri": "https://localhost:8080/",
          "height": 34
        },
        "outputId": "6c9beebe-bae3-4ac9-f9e5-fe0531ced6b3"
      },
      "source": [
        "Calc.addition(3,4)"
      ],
      "execution_count": null,
      "outputs": [
        {
          "output_type": "execute_result",
          "data": {
            "text/plain": [
              "7"
            ]
          },
          "metadata": {
            "tags": []
          },
          "execution_count": 105
        }
      ]
    },
    {
      "cell_type": "code",
      "metadata": {
        "id": "Ircb3O7wxke5",
        "colab_type": "code",
        "colab": {}
      },
      "source": [
        ""
      ],
      "execution_count": null,
      "outputs": []
    }
  ]
}